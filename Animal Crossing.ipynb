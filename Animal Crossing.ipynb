{
 "cells": [
  {
   "cell_type": "code",
   "execution_count": 1,
   "id": "1fbd4ee4",
   "metadata": {},
   "outputs": [],
   "source": [
    "import pandas as pd\n",
    "import numpy as np\n",
    "import matplotlib.pyplot as plt\n",
    "import matplotlib.patches as mpatches"
   ]
  },
  {
   "cell_type": "markdown",
   "id": "e7a03370",
   "metadata": {},
   "source": [
    "# Animal Crossing EDA"
   ]
  },
  {
   "cell_type": "code",
   "execution_count": 2,
   "id": "e3b5065c",
   "metadata": {},
   "outputs": [],
   "source": [
    "villager_rankings = pd.read_csv('/Users/KaryLy/Desktop/datasets/acnh_villager_data.csv')"
   ]
  },
  {
   "cell_type": "code",
   "execution_count": 3,
   "id": "7bef0d32",
   "metadata": {},
   "outputs": [],
   "source": [
    "villager_list = pd.read_csv('/Users/KaryLy/Desktop/datasets/villagers.csv')"
   ]
  },
  {
   "cell_type": "markdown",
   "id": "051f431b",
   "metadata": {
    "code_folding": []
   },
   "source": [
    "In this project, I will be exploring which traits make certain villagers more popular than others. \n",
    "Each villager has their own characteristics including gender, personality type, hobbies, and birthdays.\n",
    "Given the information from the datasets, what common characterstics can we find among the popular villagers?\n",
    "We will explore the following questions:\n",
    "1. What is the most common gender of the popular villagers and all the villagers?\n",
    "2. What personality trait is most common of the popular villagers and all the villagers?\n",
    "3. What is the most common villager species among popular villagers and all the villagers?\n",
    "4. Does the number one most popular villager have these characteristics? \n",
    "5. What percentage of the 10 most popular villagers have these characteristics?\n",
    "\n",
    "The datasets I will be using were provided by users Jessica Li and Ampi on Kaggle.\n",
    "\n",
    "https://www.kaggle.com/datasets/jessicali9530/animal-crossing-new-horizons-nookplaza-dataset\n",
    "\n",
    "https://www.kaggle.com/datasets/ampiiere/acnh-villager-popularity"
   ]
  },
  {
   "cell_type": "code",
   "execution_count": 5,
   "id": "3141c440",
   "metadata": {},
   "outputs": [
    {
     "data": {
      "text/html": [
       "<div>\n",
       "<style scoped>\n",
       "    .dataframe tbody tr th:only-of-type {\n",
       "        vertical-align: middle;\n",
       "    }\n",
       "\n",
       "    .dataframe tbody tr th {\n",
       "        vertical-align: top;\n",
       "    }\n",
       "\n",
       "    .dataframe thead th {\n",
       "        text-align: right;\n",
       "    }\n",
       "</style>\n",
       "<table border=\"1\" class=\"dataframe\">\n",
       "  <thead>\n",
       "    <tr style=\"text-align: right;\">\n",
       "      <th></th>\n",
       "      <th>tier</th>\n",
       "      <th>rank</th>\n",
       "      <th>name</th>\n",
       "    </tr>\n",
       "  </thead>\n",
       "  <tbody>\n",
       "    <tr>\n",
       "      <th>0</th>\n",
       "      <td>1</td>\n",
       "      <td>1</td>\n",
       "      <td>Raymond</td>\n",
       "    </tr>\n",
       "    <tr>\n",
       "      <th>1</th>\n",
       "      <td>1</td>\n",
       "      <td>2</td>\n",
       "      <td>Marshal</td>\n",
       "    </tr>\n",
       "    <tr>\n",
       "      <th>2</th>\n",
       "      <td>1</td>\n",
       "      <td>3</td>\n",
       "      <td>Shino</td>\n",
       "    </tr>\n",
       "    <tr>\n",
       "      <th>3</th>\n",
       "      <td>1</td>\n",
       "      <td>4</td>\n",
       "      <td>Sherb</td>\n",
       "    </tr>\n",
       "    <tr>\n",
       "      <th>4</th>\n",
       "      <td>1</td>\n",
       "      <td>5</td>\n",
       "      <td>Sasha</td>\n",
       "    </tr>\n",
       "  </tbody>\n",
       "</table>\n",
       "</div>"
      ],
      "text/plain": [
       "   tier  rank     name\n",
       "0     1     1  Raymond\n",
       "1     1     2  Marshal\n",
       "2     1     3    Shino\n",
       "3     1     4    Sherb\n",
       "4     1     5    Sasha"
      ]
     },
     "execution_count": 5,
     "metadata": {},
     "output_type": "execute_result"
    }
   ],
   "source": [
    "villager_rankings.head()"
   ]
  },
  {
   "cell_type": "code",
   "execution_count": 6,
   "id": "4ebcad0e",
   "metadata": {
    "scrolled": false
   },
   "outputs": [
    {
     "data": {
      "text/html": [
       "<div>\n",
       "<style scoped>\n",
       "    .dataframe tbody tr th:only-of-type {\n",
       "        vertical-align: middle;\n",
       "    }\n",
       "\n",
       "    .dataframe tbody tr th {\n",
       "        vertical-align: top;\n",
       "    }\n",
       "\n",
       "    .dataframe thead th {\n",
       "        text-align: right;\n",
       "    }\n",
       "</style>\n",
       "<table border=\"1\" class=\"dataframe\">\n",
       "  <thead>\n",
       "    <tr style=\"text-align: right;\">\n",
       "      <th></th>\n",
       "      <th>Name</th>\n",
       "      <th>Species</th>\n",
       "      <th>Gender</th>\n",
       "      <th>Personality</th>\n",
       "      <th>Hobby</th>\n",
       "      <th>Birthday</th>\n",
       "      <th>Catchphrase</th>\n",
       "      <th>Favorite Song</th>\n",
       "      <th>Style 1</th>\n",
       "      <th>Style 2</th>\n",
       "      <th>Color 1</th>\n",
       "      <th>Color 2</th>\n",
       "      <th>Wallpaper</th>\n",
       "      <th>Flooring</th>\n",
       "      <th>Furniture List</th>\n",
       "      <th>Filename</th>\n",
       "      <th>Unique Entry ID</th>\n",
       "    </tr>\n",
       "  </thead>\n",
       "  <tbody>\n",
       "    <tr>\n",
       "      <th>0</th>\n",
       "      <td>Admiral</td>\n",
       "      <td>Bird</td>\n",
       "      <td>Male</td>\n",
       "      <td>Cranky</td>\n",
       "      <td>Nature</td>\n",
       "      <td>27-Jan</td>\n",
       "      <td>aye aye</td>\n",
       "      <td>Steep Hill</td>\n",
       "      <td>Cool</td>\n",
       "      <td>Cool</td>\n",
       "      <td>Black</td>\n",
       "      <td>Blue</td>\n",
       "      <td>dirt-clod wall</td>\n",
       "      <td>tatami</td>\n",
       "      <td>717;1849;7047;2736;787;5970;3449;3622;3802;410...</td>\n",
       "      <td>brd06</td>\n",
       "      <td>B3RyfNEqwGmcccRC3</td>\n",
       "    </tr>\n",
       "    <tr>\n",
       "      <th>1</th>\n",
       "      <td>Agent S</td>\n",
       "      <td>Squirrel</td>\n",
       "      <td>Female</td>\n",
       "      <td>Peppy</td>\n",
       "      <td>Fitness</td>\n",
       "      <td>2-Jul</td>\n",
       "      <td>sidekick</td>\n",
       "      <td>Go K.K. Rider</td>\n",
       "      <td>Active</td>\n",
       "      <td>Simple</td>\n",
       "      <td>Blue</td>\n",
       "      <td>Black</td>\n",
       "      <td>concrete wall</td>\n",
       "      <td>colorful tile flooring</td>\n",
       "      <td>7845;7150;3468;4080;290;3971;3449;1708;4756;25...</td>\n",
       "      <td>squ05</td>\n",
       "      <td>SGMdki6dzpDZyXAw5</td>\n",
       "    </tr>\n",
       "    <tr>\n",
       "      <th>2</th>\n",
       "      <td>Agnes</td>\n",
       "      <td>Pig</td>\n",
       "      <td>Female</td>\n",
       "      <td>Big Sister</td>\n",
       "      <td>Play</td>\n",
       "      <td>21-Apr</td>\n",
       "      <td>snuffle</td>\n",
       "      <td>K.K. House</td>\n",
       "      <td>Simple</td>\n",
       "      <td>Elegant</td>\n",
       "      <td>Pink</td>\n",
       "      <td>White</td>\n",
       "      <td>gray molded-panel wall</td>\n",
       "      <td>arabesque flooring</td>\n",
       "      <td>4129;7236;7235;7802;896;3428;4027;7325;3958;71...</td>\n",
       "      <td>pig17</td>\n",
       "      <td>jzWCiDPm9MqtCfecP</td>\n",
       "    </tr>\n",
       "    <tr>\n",
       "      <th>3</th>\n",
       "      <td>Al</td>\n",
       "      <td>Gorilla</td>\n",
       "      <td>Male</td>\n",
       "      <td>Lazy</td>\n",
       "      <td>Fitness</td>\n",
       "      <td>18-Oct</td>\n",
       "      <td>ayyyeee</td>\n",
       "      <td>Go K.K. Rider</td>\n",
       "      <td>Active</td>\n",
       "      <td>Active</td>\n",
       "      <td>Red</td>\n",
       "      <td>White</td>\n",
       "      <td>concrete wall</td>\n",
       "      <td>green rubber flooring</td>\n",
       "      <td>1452;4078;4013;833;4116;3697;7845;3307;3946;39...</td>\n",
       "      <td>gor08</td>\n",
       "      <td>LBifxETQJGEaLhBjC</td>\n",
       "    </tr>\n",
       "    <tr>\n",
       "      <th>4</th>\n",
       "      <td>Alfonso</td>\n",
       "      <td>Alligator</td>\n",
       "      <td>Male</td>\n",
       "      <td>Lazy</td>\n",
       "      <td>Play</td>\n",
       "      <td>9-Jun</td>\n",
       "      <td>it'sa me</td>\n",
       "      <td>Forest Life</td>\n",
       "      <td>Simple</td>\n",
       "      <td>Simple</td>\n",
       "      <td>Red</td>\n",
       "      <td>Blue</td>\n",
       "      <td>yellow playroom wall</td>\n",
       "      <td>green honeycomb tile</td>\n",
       "      <td>4763;3205;3701;1557;3623;85;3208;3584;4761;121...</td>\n",
       "      <td>crd00</td>\n",
       "      <td>REpd8KxB8p9aGBRSE</td>\n",
       "    </tr>\n",
       "  </tbody>\n",
       "</table>\n",
       "</div>"
      ],
      "text/plain": [
       "      Name    Species  Gender Personality    Hobby Birthday Catchphrase  \\\n",
       "0  Admiral       Bird    Male      Cranky   Nature   27-Jan     aye aye   \n",
       "1  Agent S   Squirrel  Female       Peppy  Fitness    2-Jul    sidekick   \n",
       "2    Agnes        Pig  Female  Big Sister     Play   21-Apr     snuffle   \n",
       "3       Al    Gorilla    Male        Lazy  Fitness   18-Oct     ayyyeee   \n",
       "4  Alfonso  Alligator    Male        Lazy     Play    9-Jun    it'sa me   \n",
       "\n",
       "   Favorite Song Style 1  Style 2 Color 1 Color 2               Wallpaper  \\\n",
       "0     Steep Hill    Cool     Cool   Black    Blue          dirt-clod wall   \n",
       "1  Go K.K. Rider  Active   Simple    Blue   Black           concrete wall   \n",
       "2     K.K. House  Simple  Elegant    Pink   White  gray molded-panel wall   \n",
       "3  Go K.K. Rider  Active   Active     Red   White           concrete wall   \n",
       "4    Forest Life  Simple   Simple     Red    Blue    yellow playroom wall   \n",
       "\n",
       "                 Flooring                                     Furniture List  \\\n",
       "0                  tatami  717;1849;7047;2736;787;5970;3449;3622;3802;410...   \n",
       "1  colorful tile flooring  7845;7150;3468;4080;290;3971;3449;1708;4756;25...   \n",
       "2      arabesque flooring  4129;7236;7235;7802;896;3428;4027;7325;3958;71...   \n",
       "3   green rubber flooring  1452;4078;4013;833;4116;3697;7845;3307;3946;39...   \n",
       "4    green honeycomb tile  4763;3205;3701;1557;3623;85;3208;3584;4761;121...   \n",
       "\n",
       "  Filename    Unique Entry ID  \n",
       "0    brd06  B3RyfNEqwGmcccRC3  \n",
       "1    squ05  SGMdki6dzpDZyXAw5  \n",
       "2    pig17  jzWCiDPm9MqtCfecP  \n",
       "3    gor08  LBifxETQJGEaLhBjC  \n",
       "4    crd00  REpd8KxB8p9aGBRSE  "
      ]
     },
     "execution_count": 6,
     "metadata": {},
     "output_type": "execute_result"
    }
   ],
   "source": [
    "villager_list.head()"
   ]
  },
  {
   "cell_type": "markdown",
   "id": "067fbac4",
   "metadata": {},
   "source": [
    "The first dataset consists of three columns: \"tier\", \"rank\", and \"name\". It ranks the villagers in tiers, and the ranking is reset to 1 at the end of a tier. For example, there are 15 villagers in tier 1, ranked 1-15. Then the tier is 2 and rankings are reset to 1. The \"Highest Popularity\" tier contains 15 villagers. The \"Very Popular\" tier contains 25 villagers. The \"Fairly Popular\" tier contains 30 villagers. The \"Middle Ground\" tier contains 60 villagers. The \"Less Popular\" tier contains 120 villagers. The \"Least Popular\" tier contains 163 villagers. The \"name\" column corresponds to the name of the villager. The second dataset contains 17 columns. These columns all correspond to different traits of the villagers."
   ]
  },
  {
   "cell_type": "code",
   "execution_count": 7,
   "id": "a4e26ec6",
   "metadata": {},
   "outputs": [
    {
     "data": {
      "text/plain": [
       "413"
      ]
     },
     "execution_count": 7,
     "metadata": {},
     "output_type": "execute_result"
    }
   ],
   "source": [
    "# get the number of villager names in villager_rankings\n",
    "rank_list = villager_rankings['name'].unique()\n",
    "len(rank_list)"
   ]
  },
  {
   "cell_type": "code",
   "execution_count": 8,
   "id": "6e662a36",
   "metadata": {},
   "outputs": [
    {
     "data": {
      "text/plain": [
       "391"
      ]
     },
     "execution_count": 8,
     "metadata": {},
     "output_type": "execute_result"
    }
   ],
   "source": [
    "# get the number of villager names in villager_list\n",
    "list = villager_list['Name'].unique()\n",
    "len(list)"
   ]
  },
  {
   "cell_type": "markdown",
   "id": "8713301a",
   "metadata": {},
   "source": [
    "villager_rankings and villager_list don't have the same amount of villagers, so we need to figure out \n",
    "which names are missing."
   ]
  },
  {
   "cell_type": "code",
   "execution_count": 9,
   "id": "5c27811e",
   "metadata": {
    "scrolled": false
   },
   "outputs": [
    {
     "data": {
      "text/plain": [
       "['Ace',\n",
       " 'Azalea',\n",
       " 'Buck(Brows)',\n",
       " 'Cephalobot',\n",
       " 'Chabwick',\n",
       " 'Chai',\n",
       " 'Chelsea',\n",
       " 'Crackle(Spork)',\n",
       " 'Faith',\n",
       " 'Frett',\n",
       " 'Ione',\n",
       " 'Marlo',\n",
       " 'Marty',\n",
       " 'OHare',\n",
       " 'Petri',\n",
       " 'Quinn',\n",
       " 'Renee',\n",
       " 'Rilla',\n",
       " 'Rio',\n",
       " 'Roswell',\n",
       " 'Sasha',\n",
       " 'Shino',\n",
       " 'Tiansheng',\n",
       " 'Toby',\n",
       " 'WartJr',\n",
       " 'Zoe',\n",
       " 'Étoile']"
      ]
     },
     "execution_count": 9,
     "metadata": {},
     "output_type": "execute_result"
    }
   ],
   "source": [
    "no_match = [name for name in villager_rankings['name'].unique() if name not in villager_list['Name'].unique()]\n",
    "no_match.sort()\n",
    "no_match"
   ]
  },
  {
   "cell_type": "markdown",
   "id": "249dc214",
   "metadata": {},
   "source": [
    "There are 22 missing names from villager_list and 27 names that don't match. This will be an issue when merging the tables together, so we need to rename the non-matching names."
   ]
  },
  {
   "cell_type": "code",
   "execution_count": 10,
   "id": "8d24b9e8",
   "metadata": {},
   "outputs": [
    {
     "data": {
      "text/plain": [
       "['Buck', \"O'Hare\", 'Renée', 'Spork', 'Wart Jr.']"
      ]
     },
     "execution_count": 10,
     "metadata": {},
     "output_type": "execute_result"
    }
   ],
   "source": [
    "mismatch = [name for name in villager_list['Name'].unique() if name not in villager_rankings['name'].unique()]\n",
    "mismatch.sort()\n",
    "mismatch"
   ]
  },
  {
   "cell_type": "markdown",
   "id": "4b70e1fc",
   "metadata": {},
   "source": [
    "Some of the names don't exist in villager_list, but some do exist and the string doesn't exactly match (e.g. \n",
    "\"Buck(Brows)\" and \"Buck\")."
   ]
  },
  {
   "cell_type": "code",
   "execution_count": 11,
   "id": "4c19660f",
   "metadata": {},
   "outputs": [],
   "source": [
    "# Now that we know which names mismatch, we can rename them.\n",
    "villager_rankings['name'] = villager_rankings['name'].replace({\"Buck(Brows)\": \"Buck\", \"OHare\": \"O'Hare\", \"Renee\": \"Renée\", \"Crackle(Spork)\": \"Spork\",\n",
    "                              \"WartJr\": \"Wart Jr.\"})"
   ]
  },
  {
   "cell_type": "markdown",
   "id": "5d511f19",
   "metadata": {},
   "source": [
    "As stated before, for names that don't exist in villager_list, we won't include them in the data because we don't \n",
    "have information on their characteristics. We'll do this by dropping the values."
   ]
  },
  {
   "cell_type": "code",
   "execution_count": 12,
   "id": "79c68bac",
   "metadata": {},
   "outputs": [],
   "source": [
    "for name in villager_list['Name'].unique():\n",
    "    if name not in villager_rankings['name'].unique():\n",
    "        villager_list['Name'].drop(name)"
   ]
  },
  {
   "cell_type": "markdown",
   "id": "760c8482",
   "metadata": {},
   "source": [
    "The way villager_rankings ranks the villagers isn't really sufficient for our EDA. It ranks the villagers in tiers,\n",
    "and the ranking is reset to 1 at the end of a tier. For example, there are 15 villagers in tier 1, ranked 1-15. \n",
    "Then the tier is 2 and rankings are reset to 1. To make our EDA easier, we need to rank the villagers from 1-391.\n",
    "To do this, we can add a new column titled, \"Popularity Rank.\""
   ]
  },
  {
   "cell_type": "code",
   "execution_count": 13,
   "id": "2ea8606e",
   "metadata": {},
   "outputs": [
    {
     "data": {
      "text/html": [
       "<div>\n",
       "<style scoped>\n",
       "    .dataframe tbody tr th:only-of-type {\n",
       "        vertical-align: middle;\n",
       "    }\n",
       "\n",
       "    .dataframe tbody tr th {\n",
       "        vertical-align: top;\n",
       "    }\n",
       "\n",
       "    .dataframe thead th {\n",
       "        text-align: right;\n",
       "    }\n",
       "</style>\n",
       "<table border=\"1\" class=\"dataframe\">\n",
       "  <thead>\n",
       "    <tr style=\"text-align: right;\">\n",
       "      <th></th>\n",
       "      <th>tier</th>\n",
       "      <th>rank</th>\n",
       "      <th>name</th>\n",
       "      <th>Popularity Rank</th>\n",
       "    </tr>\n",
       "  </thead>\n",
       "  <tbody>\n",
       "    <tr>\n",
       "      <th>0</th>\n",
       "      <td>1</td>\n",
       "      <td>1</td>\n",
       "      <td>Raymond</td>\n",
       "      <td>1</td>\n",
       "    </tr>\n",
       "    <tr>\n",
       "      <th>1</th>\n",
       "      <td>1</td>\n",
       "      <td>2</td>\n",
       "      <td>Marshal</td>\n",
       "      <td>2</td>\n",
       "    </tr>\n",
       "    <tr>\n",
       "      <th>2</th>\n",
       "      <td>1</td>\n",
       "      <td>3</td>\n",
       "      <td>Shino</td>\n",
       "      <td>3</td>\n",
       "    </tr>\n",
       "    <tr>\n",
       "      <th>3</th>\n",
       "      <td>1</td>\n",
       "      <td>4</td>\n",
       "      <td>Sherb</td>\n",
       "      <td>4</td>\n",
       "    </tr>\n",
       "    <tr>\n",
       "      <th>4</th>\n",
       "      <td>1</td>\n",
       "      <td>5</td>\n",
       "      <td>Sasha</td>\n",
       "      <td>5</td>\n",
       "    </tr>\n",
       "  </tbody>\n",
       "</table>\n",
       "</div>"
      ],
      "text/plain": [
       "   tier  rank     name  Popularity Rank\n",
       "0     1     1  Raymond                1\n",
       "1     1     2  Marshal                2\n",
       "2     1     3    Shino                3\n",
       "3     1     4    Sherb                4\n",
       "4     1     5    Sasha                5"
      ]
     },
     "execution_count": 13,
     "metadata": {},
     "output_type": "execute_result"
    }
   ],
   "source": [
    "villager_rankings['Popularity Rank'] = np.arange(1, villager_rankings.shape[0] + 1)\n",
    "villager_rankings.head()"
   ]
  },
  {
   "cell_type": "code",
   "execution_count": 14,
   "id": "11e815b0",
   "metadata": {},
   "outputs": [
    {
     "data": {
      "text/html": [
       "<div>\n",
       "<style scoped>\n",
       "    .dataframe tbody tr th:only-of-type {\n",
       "        vertical-align: middle;\n",
       "    }\n",
       "\n",
       "    .dataframe tbody tr th {\n",
       "        vertical-align: top;\n",
       "    }\n",
       "\n",
       "    .dataframe thead th {\n",
       "        text-align: right;\n",
       "    }\n",
       "</style>\n",
       "<table border=\"1\" class=\"dataframe\">\n",
       "  <thead>\n",
       "    <tr style=\"text-align: right;\">\n",
       "      <th></th>\n",
       "      <th>Name</th>\n",
       "      <th>Popularity Rank</th>\n",
       "      <th>Species</th>\n",
       "      <th>Gender</th>\n",
       "      <th>Personality</th>\n",
       "      <th>Hobby</th>\n",
       "      <th>Style 1</th>\n",
       "      <th>Style 2</th>\n",
       "    </tr>\n",
       "  </thead>\n",
       "  <tbody>\n",
       "    <tr>\n",
       "      <th>0</th>\n",
       "      <td>Raymond</td>\n",
       "      <td>1</td>\n",
       "      <td>Cat</td>\n",
       "      <td>Male</td>\n",
       "      <td>Smug</td>\n",
       "      <td>Nature</td>\n",
       "      <td>Elegant</td>\n",
       "      <td>Cool</td>\n",
       "    </tr>\n",
       "    <tr>\n",
       "      <th>1</th>\n",
       "      <td>Marshal</td>\n",
       "      <td>2</td>\n",
       "      <td>Squirrel</td>\n",
       "      <td>Male</td>\n",
       "      <td>Smug</td>\n",
       "      <td>Music</td>\n",
       "      <td>Elegant</td>\n",
       "      <td>Cool</td>\n",
       "    </tr>\n",
       "    <tr>\n",
       "      <th>2</th>\n",
       "      <td>Sherb</td>\n",
       "      <td>4</td>\n",
       "      <td>Goat</td>\n",
       "      <td>Male</td>\n",
       "      <td>Lazy</td>\n",
       "      <td>Nature</td>\n",
       "      <td>Simple</td>\n",
       "      <td>Cute</td>\n",
       "    </tr>\n",
       "    <tr>\n",
       "      <th>3</th>\n",
       "      <td>Ankha</td>\n",
       "      <td>7</td>\n",
       "      <td>Cat</td>\n",
       "      <td>Female</td>\n",
       "      <td>Snooty</td>\n",
       "      <td>Nature</td>\n",
       "      <td>Gorgeous</td>\n",
       "      <td>Simple</td>\n",
       "    </tr>\n",
       "    <tr>\n",
       "      <th>4</th>\n",
       "      <td>Zucker</td>\n",
       "      <td>8</td>\n",
       "      <td>Octopus</td>\n",
       "      <td>Male</td>\n",
       "      <td>Lazy</td>\n",
       "      <td>Nature</td>\n",
       "      <td>Simple</td>\n",
       "      <td>Cute</td>\n",
       "    </tr>\n",
       "  </tbody>\n",
       "</table>\n",
       "</div>"
      ],
      "text/plain": [
       "      Name  Popularity Rank   Species  Gender Personality   Hobby   Style 1  \\\n",
       "0  Raymond                1       Cat    Male        Smug  Nature   Elegant   \n",
       "1  Marshal                2  Squirrel    Male        Smug   Music   Elegant   \n",
       "2    Sherb                4      Goat    Male        Lazy  Nature    Simple   \n",
       "3    Ankha                7       Cat  Female      Snooty  Nature  Gorgeous   \n",
       "4   Zucker                8   Octopus    Male        Lazy  Nature    Simple   \n",
       "\n",
       "  Style 2  \n",
       "0    Cool  \n",
       "1    Cool  \n",
       "2    Cute  \n",
       "3  Simple  \n",
       "4    Cute  "
      ]
     },
     "execution_count": 14,
     "metadata": {},
     "output_type": "execute_result"
    }
   ],
   "source": [
    "# In order to merge the dataframes on names, we need to rename the \"name\" or \"Name\" columns to match each other.\n",
    "villager_rankings.rename(columns = {'name': 'Name'}, inplace=True)\n",
    "villager_info = villager_rankings.merge(villager_list, on='Name')\n",
    "df = villager_info[['Name', 'Popularity Rank', 'Species', 'Gender', 'Personality', 'Hobby', 'Style 1', 'Style 2']]\n",
    "df.sort_values(by=['Popularity Rank'], ascending=True)\n",
    "df.head()"
   ]
  },
  {
   "cell_type": "markdown",
   "id": "32f07305",
   "metadata": {},
   "source": [
    "We can now perform our data analysis\n",
    "\n",
    "Let's tackle the first question:\n",
    "\n",
    "What is the most common gender of the popular villagers and all the villagers?"
   ]
  },
  {
   "cell_type": "code",
   "execution_count": 15,
   "id": "7da5e701",
   "metadata": {
    "scrolled": true
   },
   "outputs": [
    {
     "data": {
      "image/png": "[encoded data removed]",
      "text/plain": [
       "<Figure size 432x288 with 1 Axes>"
      ]
     },
     "metadata": {},
     "output_type": "display_data"
    }
   ],
   "source": [
    "common_gender = df['Gender'].value_counts()\n",
    "plt.pie(common_gender, autopct='%0.2f%%', colors=['yellow', 'pink'], labels=common_gender.index)\n",
    "plt.title('Gender Percentage of All Villagers');"
   ]
  },
  {
   "cell_type": "markdown",
   "id": "671e4ed9",
   "metadata": {},
   "source": [
    "The most common gender is male, but it's almost an even split."
   ]
  },
  {
   "cell_type": "code",
   "execution_count": 16,
   "id": "d9e134d8",
   "metadata": {},
   "outputs": [
    {
     "data": {
      "image/png": "[encoded data removed]",
      "text/plain": [
       "<Figure size 432x288 with 1 Axes>"
      ]
     },
     "metadata": {
      "needs_background": "light"
     },
     "output_type": "display_data"
    }
   ],
   "source": [
    "popular_gender = df.groupby('Gender').mean()\n",
    "plt.bar(popular_gender.index, popular_gender['Popularity Rank'], color= ['pink', 'yellow'])\n",
    "def addlabels(x, y):\n",
    "    for i in range(len(x)):\n",
    "        plt.text(i, y[i], format(y[i], '0.2f'), ha = 'center')\n",
    "plt.title('Most Popular Genders')\n",
    "plt.xlabel('Gender')\n",
    "plt.ylabel('Popularity')\n",
    "addlabels(popular_gender.index, popular_gender['Popularity Rank']);"
   ]
  },
  {
   "cell_type": "markdown",
   "id": "a9b55ec0",
   "metadata": {},
   "source": [
    "The most common gender of the popular villagers is female. Keep in mind that the lower the popularity score, the higher the popularity because the rankings are ordered by ascending."
   ]
  },
  {
   "cell_type": "markdown",
   "id": "0acd9e08",
   "metadata": {},
   "source": [
    "What personality trait is most common of the popular villagers and all the villagers?"
   ]
  },
  {
   "cell_type": "code",
   "execution_count": 22,
   "id": "8a0a8eae",
   "metadata": {},
   "outputs": [
    {
     "data": {
      "image/png": "[encoded data removed]",
      "text/plain": [
       "<Figure size 720x720 with 1 Axes>"
      ]
     },
     "metadata": {
      "needs_background": "light"
     },
     "output_type": "display_data"
    }
   ],
   "source": [
    "proportion_personality = df['Personality'].value_counts() / len(df['Personality'])\n",
    "colors = ['yellow', 'pink', 'pink', 'yellow', 'yellow', 'pink', 'yellow', 'pink']\n",
    "plt.figure(figsize=(10,10))\n",
    "plt.bar(proportion_personality.index, proportion_personality, color=colors)\n",
    "plt.title('Most Common Personality Types')\n",
    "plt.xlabel('Personality Type')\n",
    "plt.ylabel('Proportion')\n",
    "addlabels(proportion_personality.index, proportion_personality)\n",
    "\n",
    "yellow_patch = mpatches.Patch(color='yellow', label='Male')\n",
    "pink_patch = mpatches.Patch(color='Pink', label='Female')\n",
    "plt.legend(handles=[yellow_patch, pink_patch])\n",
    "plt.show();"
   ]
  },
  {
   "cell_type": "markdown",
   "id": "3a2788ee",
   "metadata": {},
   "source": [
    "The most common personality types, from most common to least common are: lazy, normal, snooty, jock, cranky, peppy, smug, and big sister."
   ]
  },
  {
   "cell_type": "code",
   "execution_count": 23,
   "id": "ce0135da",
   "metadata": {},
   "outputs": [
    {
     "data": {
      "image/png": "[encoded data removed]",
      "text/plain": [
       "<Figure size 720x720 with 1 Axes>"
      ]
     },
     "metadata": {
      "needs_background": "light"
     },
     "output_type": "display_data"
    }
   ],
   "source": [
    "average_personality = df.groupby('Personality').mean()\n",
    "colors = ['pink', 'yellow', 'yellow', 'yellow', 'pink', 'pink', 'yellow', 'pink']\n",
    "plt.figure(figsize=(10,10))\n",
    "plt.bar(average_personality.index, average_personality['Popularity Rank'], color=colors)\n",
    "addlabels(average_personality.index, average_personality['Popularity Rank'])\n",
    "plt.title('Most Popular Personality Type')\n",
    "plt.xlabel('Personality Type')\n",
    "plt.ylabel('Popularity')\n",
    "plt.legend(handles=[yellow_patch, pink_patch])\n",
    "plt.show();"
   ]
  },
  {
   "cell_type": "markdown",
   "id": "7031717b",
   "metadata": {},
   "source": [
    "The most popular personality types are, from most popular to least popular: normal, big sister, peppy, lazy, smug, jock, cranky, snooty."
   ]
  },
  {
   "cell_type": "markdown",
   "id": "532a1798",
   "metadata": {},
   "source": [
    "What is the most common villager species among popular villagers and all the villagers?"
   ]
  },
  {
   "cell_type": "code",
   "execution_count": 42,
   "id": "82f358b0",
   "metadata": {},
   "outputs": [
    {
     "data": {
      "image/png": "[encoded data removed]",
      "text/plain": [
       "<Figure size 720x720 with 1 Axes>"
      ]
     },
     "metadata": {
      "needs_background": "light"
     },
     "output_type": "display_data"
    }
   ],
   "source": [
    "species_count = df['Species'].value_counts()\n",
    "plt.figure(figsize=(10,10))\n",
    "ax = plt.barh(species_count.index, species_count, color='plum')\n",
    "plt.bar_label(ax)\n",
    "plt.title('Most Common Species Type')\n",
    "plt.ylabel('Species Type')\n",
    "plt.xlabel('Count')\n",
    "plt.show();"
   ]
  },
  {
   "cell_type": "markdown",
   "id": "7daa7766",
   "metadata": {},
   "source": [
    "The five most common species are cat, rabbit, squirrel, frog, and duck. The five least common are octopus, cow, bull, rhino, and hippo."
   ]
  },
  {
   "cell_type": "code",
   "execution_count": 43,
   "id": "53a6c35e",
   "metadata": {},
   "outputs": [
    {
     "data": {
      "image/png": "[encoded data removed]",
      "text/plain": [
       "<Figure size 1440x720 with 1 Axes>"
      ]
     },
     "metadata": {
      "needs_background": "light"
     },
     "output_type": "display_data"
    }
   ],
   "source": [
    "popular_species = df.groupby('Species').mean()\n",
    "popular_species.sort_values('Popularity Rank')\n",
    "plt.figure(figsize=(20,10))\n",
    "ax = plt.barh(popular_species.index, popular_species['Popularity Rank'], color='plum')\n",
    "plt.bar_label(ax, fmt='%0.2f')\n",
    "plt.title('Most Popular Species Type')\n",
    "plt.ylabel('Species Type')\n",
    "plt.xlabel('Popularity')\n",
    "plt.show();"
   ]
  },
  {
   "cell_type": "markdown",
   "id": "4e68b81e",
   "metadata": {},
   "source": [
    "The five most popular species are, from most to least: octopus, deer, wolf, cat, and koala. One observation we can make is that octopus is the least common species, but the most popular. "
   ]
  },
  {
   "cell_type": "markdown",
   "id": "5702ffc4",
   "metadata": {},
   "source": [
    "What is the most common hobby among popular villagers and all the villagers?"
   ]
  },
  {
   "cell_type": "code",
   "execution_count": 25,
   "id": "c59106e9",
   "metadata": {
    "scrolled": true
   },
   "outputs": [
    {
     "data": {
      "image/png": "[encoded data removed]",
      "text/plain": [
       "<Figure size 432x288 with 1 Axes>"
      ]
     },
     "metadata": {},
     "output_type": "display_data"
    }
   ],
   "source": [
    "common_hobby = df['Hobby'].value_counts()\n",
    "plt.pie(common_hobby, colors=['thistle', 'powderblue', 'lightcoral', 'papayawhip', 'lightsalmon', 'rosybrown'], autopct='%0.2f%%', labels=common_hobby.index)\n",
    "plt.title('Hobby Percentage of All Villagers');"
   ]
  },
  {
   "cell_type": "markdown",
   "id": "772f8b38",
   "metadata": {},
   "source": [
    "The three most common hobbies are fashion, fitness, and nature."
   ]
  },
  {
   "cell_type": "code",
   "execution_count": 26,
   "id": "a7233858",
   "metadata": {
    "scrolled": true
   },
   "outputs": [
    {
     "data": {
      "image/png": "[encoded data removed]",
      "text/plain": [
       "<Figure size 432x288 with 1 Axes>"
      ]
     },
     "metadata": {
      "needs_background": "light"
     },
     "output_type": "display_data"
    }
   ],
   "source": [
    "popular_hobby = df.groupby('Hobby').mean()\n",
    "popular_hobby.sort_values('Popularity Rank')\n",
    "colors = ['rosybrown', 'lightcoral', 'powderblue', 'lightsalmon', 'thistle', 'bisque']\n",
    "plt.bar(popular_hobby.index, popular_hobby['Popularity Rank'], color=colors)\n",
    "addlabels(popular_hobby.index, popular_hobby['Popularity Rank'])\n",
    "plt.title('Most Popular Hobby')\n",
    "plt.xlabel('Hobby')\n",
    "plt.ylabel('Popularity');"
   ]
  },
  {
   "cell_type": "markdown",
   "id": "70cff475",
   "metadata": {},
   "source": [
    "The three most popular hobbies are music, nature, and play."
   ]
  },
  {
   "cell_type": "markdown",
   "id": "54b2e439",
   "metadata": {},
   "source": [
    "What is the most common style among popular villagers and all the villagers?"
   ]
  },
  {
   "cell_type": "code",
   "execution_count": 34,
   "id": "61d80a1a",
   "metadata": {},
   "outputs": [
    {
     "data": {
      "image/png": "[encoded data removed]",
      "text/plain": [
       "<Figure size 432x288 with 1 Axes>"
      ]
     },
     "metadata": {},
     "output_type": "display_data"
    }
   ],
   "source": [
    "common_style_1 = df['Style 1'].value_counts()\n",
    "plt.pie(common_style_1, colors=['mistyrose', 'skyblue', 'darkseagreen', 'indianred', 'lavender', 'palevioletred'], autopct='%0.2f%%', labels=common_style_1.index)\n",
    "plt.title('Style 1 Percentage of All Villagers');"
   ]
  },
  {
   "cell_type": "markdown",
   "id": "80183e1a",
   "metadata": {},
   "source": [
    "The most common first style of the villagers is simple, followed by cool, cute, elegant, active, and gorgeous."
   ]
  },
  {
   "cell_type": "code",
   "execution_count": 35,
   "id": "d6ea7b85",
   "metadata": {},
   "outputs": [
    {
     "data": {
      "image/png": "[encoded data removed]",
      "text/plain": [
       "<Figure size 432x288 with 1 Axes>"
      ]
     },
     "metadata": {
      "needs_background": "light"
     },
     "output_type": "display_data"
    }
   ],
   "source": [
    "style_1_popular = df.groupby('Style 1').mean()\n",
    "style_1_popular.sort_values('Popularity Rank')\n",
    "colors = ['lavender', 'skyblue', 'darkseagreen', 'indianred', 'palevioletred', 'mistyrose']\n",
    "plt.bar(style_1_popular.index, style_1_popular['Popularity Rank'], color=colors)\n",
    "addlabels(style_1_popular.index, style_1_popular['Popularity Rank'])\n",
    "plt.title('Most Popular Style 1')\n",
    "plt.xlabel('Style 1')\n",
    "plt.ylabel('Popularity');"
   ]
  },
  {
   "cell_type": "markdown",
   "id": "815c759c",
   "metadata": {},
   "source": [
    "The most popular first style of the villagers is cute, followed by simple, elegant, cool, gorgeous, and active."
   ]
  },
  {
   "cell_type": "code",
   "execution_count": 41,
   "id": "89e980d2",
   "metadata": {},
   "outputs": [
    {
     "data": {
      "image/png": "[encoded data removed]",
      "text/plain": [
       "<Figure size 432x288 with 1 Axes>"
      ]
     },
     "metadata": {},
     "output_type": "display_data"
    }
   ],
   "source": [
    "common_style_2 = df['Style 2'].value_counts()\n",
    "plt.pie(common_style_2, colors= ['mistyrose', 'skyblue', 'darkseagreen', 'indianred', 'lavender', 'palevioletred'], autopct='%0.2f%%', labels=common_style_2.index)\n",
    "plt.title('Style 2 Percentage of All Villagers');"
   ]
  },
  {
   "cell_type": "markdown",
   "id": "96627e34",
   "metadata": {},
   "source": [
    "The most common second style of the villagers is simple, followed by cute, cool, elegant, gorgeous, and active."
   ]
  },
  {
   "cell_type": "code",
   "execution_count": 43,
   "id": "06543195",
   "metadata": {},
   "outputs": [
    {
     "data": {
      "image/png": "[encoded data removed]",
      "text/plain": [
       "<Figure size 432x288 with 1 Axes>"
      ]
     },
     "metadata": {
      "needs_background": "light"
     },
     "output_type": "display_data"
    }
   ],
   "source": [
    "style_2_popular = df.groupby('Style 2').mean()\n",
    "style_2_popular.sort_values('Popularity Rank')\n",
    "colors = ['palevioletred', 'darkseagreen', 'skyblue', 'indianred', 'lavender', 'mistyrose']\n",
    "plt.bar(style_2_popular.index, style_2_popular['Popularity Rank'], color=colors)\n",
    "addlabels(style_2_popular.index, style_2_popular['Popularity Rank'])\n",
    "plt.title('Most Popular Style 2')\n",
    "plt.xlabel('Style 2')\n",
    "plt.ylabel('Popularity');"
   ]
  },
  {
   "cell_type": "markdown",
   "id": "00fc1243",
   "metadata": {},
   "source": [
    "The most popular second style is cute, followed by simple, active, cool, elegant, and gorgeous."
   ]
  },
  {
   "cell_type": "markdown",
   "id": "d060c887",
   "metadata": {},
   "source": [
    "Does the number one most popular villager have these characteristics?"
   ]
  },
  {
   "cell_type": "code",
   "execution_count": 44,
   "id": "408ea0d9",
   "metadata": {},
   "outputs": [
    {
     "data": {
      "text/html": [
       "<div>\n",
       "<style scoped>\n",
       "    .dataframe tbody tr th:only-of-type {\n",
       "        vertical-align: middle;\n",
       "    }\n",
       "\n",
       "    .dataframe tbody tr th {\n",
       "        vertical-align: top;\n",
       "    }\n",
       "\n",
       "    .dataframe thead th {\n",
       "        text-align: right;\n",
       "    }\n",
       "</style>\n",
       "<table border=\"1\" class=\"dataframe\">\n",
       "  <thead>\n",
       "    <tr style=\"text-align: right;\">\n",
       "      <th></th>\n",
       "      <th>Name</th>\n",
       "      <th>Popularity Rank</th>\n",
       "      <th>Species</th>\n",
       "      <th>Gender</th>\n",
       "      <th>Personality</th>\n",
       "      <th>Hobby</th>\n",
       "      <th>Style 1</th>\n",
       "      <th>Style 2</th>\n",
       "    </tr>\n",
       "  </thead>\n",
       "  <tbody>\n",
       "    <tr>\n",
       "      <th>0</th>\n",
       "      <td>Raymond</td>\n",
       "      <td>1</td>\n",
       "      <td>Cat</td>\n",
       "      <td>Male</td>\n",
       "      <td>Smug</td>\n",
       "      <td>Nature</td>\n",
       "      <td>Elegant</td>\n",
       "      <td>Cool</td>\n",
       "    </tr>\n",
       "  </tbody>\n",
       "</table>\n",
       "</div>"
      ],
      "text/plain": [
       "      Name  Popularity Rank Species Gender Personality   Hobby  Style 1  \\\n",
       "0  Raymond                1     Cat   Male        Smug  Nature  Elegant   \n",
       "\n",
       "  Style 2  \n",
       "0    Cool  "
      ]
     },
     "execution_count": 44,
     "metadata": {},
     "output_type": "execute_result"
    }
   ],
   "source": [
    "df.head(1)"
   ]
  },
  {
   "cell_type": "markdown",
   "id": "eb91d50a",
   "metadata": {},
   "source": [
    "We can see that the number one most popular villager is Raymond. Of the most popular villagers, the most common\n",
    "traits are: female, big sister, octopus, nature, cute, and cute. These traits are quite different from Raymond's \n",
    "aside from the nature hobby, but his ranking is not too surprising. Cats are the 4th most popular species and \n",
    "smug personality types are the second most popular among male villagers. Overall, while Raymond's characteristics \n",
    "don't completely match the most common traits of the top popular villagers, his popularity can be attributed to \n",
    "various factors such as being a cat villager, possessing a smug personality (a popular choice among male \n",
    "villagers), and sharing the nature hobby, which is a prevalent characteristic among the popular villagers. \n",
    "These factors collectively contribute to his high ranking and appeal to players."
   ]
  },
  {
   "cell_type": "markdown",
   "id": "80f8c659",
   "metadata": {},
   "source": [
    "What percentage of the most popular villagers have these characteristics?"
   ]
  },
  {
   "cell_type": "code",
   "execution_count": 46,
   "id": "dae2c195",
   "metadata": {},
   "outputs": [
    {
     "data": {
      "text/html": [
       "<div>\n",
       "<style scoped>\n",
       "    .dataframe tbody tr th:only-of-type {\n",
       "        vertical-align: middle;\n",
       "    }\n",
       "\n",
       "    .dataframe tbody tr th {\n",
       "        vertical-align: top;\n",
       "    }\n",
       "\n",
       "    .dataframe thead th {\n",
       "        text-align: right;\n",
       "    }\n",
       "</style>\n",
       "<table border=\"1\" class=\"dataframe\">\n",
       "  <thead>\n",
       "    <tr style=\"text-align: right;\">\n",
       "      <th></th>\n",
       "      <th>Name</th>\n",
       "      <th>Popularity Rank</th>\n",
       "      <th>Species</th>\n",
       "      <th>Gender</th>\n",
       "      <th>Personality</th>\n",
       "      <th>Hobby</th>\n",
       "      <th>Style 1</th>\n",
       "      <th>Style 2</th>\n",
       "    </tr>\n",
       "  </thead>\n",
       "  <tbody>\n",
       "    <tr>\n",
       "      <th>0</th>\n",
       "      <td>Raymond</td>\n",
       "      <td>1</td>\n",
       "      <td>Cat</td>\n",
       "      <td>Male</td>\n",
       "      <td>Smug</td>\n",
       "      <td>Nature</td>\n",
       "      <td>Elegant</td>\n",
       "      <td>Cool</td>\n",
       "    </tr>\n",
       "    <tr>\n",
       "      <th>1</th>\n",
       "      <td>Marshal</td>\n",
       "      <td>2</td>\n",
       "      <td>Squirrel</td>\n",
       "      <td>Male</td>\n",
       "      <td>Smug</td>\n",
       "      <td>Music</td>\n",
       "      <td>Elegant</td>\n",
       "      <td>Cool</td>\n",
       "    </tr>\n",
       "    <tr>\n",
       "      <th>2</th>\n",
       "      <td>Sherb</td>\n",
       "      <td>4</td>\n",
       "      <td>Goat</td>\n",
       "      <td>Male</td>\n",
       "      <td>Lazy</td>\n",
       "      <td>Nature</td>\n",
       "      <td>Simple</td>\n",
       "      <td>Cute</td>\n",
       "    </tr>\n",
       "    <tr>\n",
       "      <th>3</th>\n",
       "      <td>Ankha</td>\n",
       "      <td>7</td>\n",
       "      <td>Cat</td>\n",
       "      <td>Female</td>\n",
       "      <td>Snooty</td>\n",
       "      <td>Nature</td>\n",
       "      <td>Gorgeous</td>\n",
       "      <td>Simple</td>\n",
       "    </tr>\n",
       "    <tr>\n",
       "      <th>4</th>\n",
       "      <td>Zucker</td>\n",
       "      <td>8</td>\n",
       "      <td>Octopus</td>\n",
       "      <td>Male</td>\n",
       "      <td>Lazy</td>\n",
       "      <td>Nature</td>\n",
       "      <td>Simple</td>\n",
       "      <td>Cute</td>\n",
       "    </tr>\n",
       "    <tr>\n",
       "      <th>5</th>\n",
       "      <td>Stitches</td>\n",
       "      <td>9</td>\n",
       "      <td>Cub</td>\n",
       "      <td>Male</td>\n",
       "      <td>Lazy</td>\n",
       "      <td>Play</td>\n",
       "      <td>Simple</td>\n",
       "      <td>Cute</td>\n",
       "    </tr>\n",
       "    <tr>\n",
       "      <th>6</th>\n",
       "      <td>Merengue</td>\n",
       "      <td>10</td>\n",
       "      <td>Rhino</td>\n",
       "      <td>Female</td>\n",
       "      <td>Normal</td>\n",
       "      <td>Nature</td>\n",
       "      <td>Cute</td>\n",
       "      <td>Simple</td>\n",
       "    </tr>\n",
       "    <tr>\n",
       "      <th>7</th>\n",
       "      <td>Marina</td>\n",
       "      <td>11</td>\n",
       "      <td>Octopus</td>\n",
       "      <td>Female</td>\n",
       "      <td>Normal</td>\n",
       "      <td>Music</td>\n",
       "      <td>Cute</td>\n",
       "      <td>Cute</td>\n",
       "    </tr>\n",
       "    <tr>\n",
       "      <th>8</th>\n",
       "      <td>Judy</td>\n",
       "      <td>12</td>\n",
       "      <td>Cub</td>\n",
       "      <td>Female</td>\n",
       "      <td>Snooty</td>\n",
       "      <td>Music</td>\n",
       "      <td>Cute</td>\n",
       "      <td>Elegant</td>\n",
       "    </tr>\n",
       "    <tr>\n",
       "      <th>9</th>\n",
       "      <td>Beau</td>\n",
       "      <td>13</td>\n",
       "      <td>Deer</td>\n",
       "      <td>Male</td>\n",
       "      <td>Lazy</td>\n",
       "      <td>Nature</td>\n",
       "      <td>Simple</td>\n",
       "      <td>Cute</td>\n",
       "    </tr>\n",
       "  </tbody>\n",
       "</table>\n",
       "</div>"
      ],
      "text/plain": [
       "       Name  Popularity Rank   Species  Gender Personality   Hobby   Style 1  \\\n",
       "0   Raymond                1       Cat    Male        Smug  Nature   Elegant   \n",
       "1   Marshal                2  Squirrel    Male        Smug   Music   Elegant   \n",
       "2     Sherb                4      Goat    Male        Lazy  Nature    Simple   \n",
       "3     Ankha                7       Cat  Female      Snooty  Nature  Gorgeous   \n",
       "4    Zucker                8   Octopus    Male        Lazy  Nature    Simple   \n",
       "5  Stitches                9       Cub    Male        Lazy    Play    Simple   \n",
       "6  Merengue               10     Rhino  Female      Normal  Nature      Cute   \n",
       "7    Marina               11   Octopus  Female      Normal   Music      Cute   \n",
       "8      Judy               12       Cub  Female      Snooty   Music      Cute   \n",
       "9      Beau               13      Deer    Male        Lazy  Nature    Simple   \n",
       "\n",
       "   Style 2  \n",
       "0     Cool  \n",
       "1     Cool  \n",
       "2     Cute  \n",
       "3   Simple  \n",
       "4     Cute  \n",
       "5     Cute  \n",
       "6   Simple  \n",
       "7     Cute  \n",
       "8  Elegant  \n",
       "9     Cute  "
      ]
     },
     "execution_count": 46,
     "metadata": {},
     "output_type": "execute_result"
    }
   ],
   "source": [
    "# Let's take the first 10 most popular villagers\n",
    "top_10 = df.head(10)\n",
    "top_10"
   ]
  },
  {
   "cell_type": "code",
   "execution_count": 47,
   "id": "129d7f49",
   "metadata": {},
   "outputs": [
    {
     "data": {
      "text/plain": [
       "40.0"
      ]
     },
     "execution_count": 47,
     "metadata": {},
     "output_type": "execute_result"
    }
   ],
   "source": [
    "# What percentage are female?\n",
    "female = top_10.where(top_10['Gender'] == 'Female').dropna()\n",
    "female_percentage = len(female) / len(top_10) * 100\n",
    "female_percentage"
   ]
  },
  {
   "cell_type": "code",
   "execution_count": 48,
   "id": "5a502d80",
   "metadata": {},
   "outputs": [
    {
     "data": {
      "text/plain": [
       "0.0"
      ]
     },
     "execution_count": 48,
     "metadata": {},
     "output_type": "execute_result"
    }
   ],
   "source": [
    "# What percentage have big sister personalities?\n",
    "big_sister = top_10.where(top_10['Personality'] == 'Big Sister').dropna()\n",
    "big_sister_percentage = len(big_sister) / len(top_10) * 100\n",
    "big_sister_percentage"
   ]
  },
  {
   "cell_type": "code",
   "execution_count": 49,
   "id": "41782142",
   "metadata": {},
   "outputs": [
    {
     "data": {
      "text/plain": [
       "20.0"
      ]
     },
     "execution_count": 49,
     "metadata": {},
     "output_type": "execute_result"
    }
   ],
   "source": [
    "# What percentage are octopuses?\n",
    "octopus = top_10.where(top_10['Species'] == 'Octopus').dropna()\n",
    "octopus_percentage = len(octopus) / len(top_10) * 100\n",
    "octopus_percentage"
   ]
  },
  {
   "cell_type": "code",
   "execution_count": 50,
   "id": "476ebc6f",
   "metadata": {},
   "outputs": [
    {
     "data": {
      "text/plain": [
       "60.0"
      ]
     },
     "execution_count": 50,
     "metadata": {},
     "output_type": "execute_result"
    }
   ],
   "source": [
    "# What percentage have nature as their hobby?\n",
    "nature = top_10.where(top_10['Hobby'] == 'Nature').dropna()\n",
    "nature_percentage = len(nature) / len(top_10) * 100\n",
    "nature_percentage"
   ]
  },
  {
   "cell_type": "code",
   "execution_count": 51,
   "id": "4dbf9591",
   "metadata": {},
   "outputs": [
    {
     "data": {
      "text/plain": [
       "30.0"
      ]
     },
     "execution_count": 51,
     "metadata": {},
     "output_type": "execute_result"
    }
   ],
   "source": [
    "# What percentage have cute as style 1?\n",
    "cute_style_1 = top_10.where(top_10['Style 1'] == 'Cute').dropna()\n",
    "cute_style_1_percentage = len(cute_style_1) / len(top_10) * 100\n",
    "cute_style_1_percentage"
   ]
  },
  {
   "cell_type": "code",
   "execution_count": 52,
   "id": "e5f65fd8",
   "metadata": {},
   "outputs": [
    {
     "data": {
      "text/plain": [
       "50.0"
      ]
     },
     "execution_count": 52,
     "metadata": {},
     "output_type": "execute_result"
    }
   ],
   "source": [
    "# What percentage have cute as style 2?\n",
    "cute_style_2 = top_10.where(top_10['Style 2'] == 'Cute').dropna()\n",
    "cute_style_2_percentage = len(cute_style_2) / len(top_10) * 100\n",
    "cute_style_2_percentage"
   ]
  },
  {
   "cell_type": "markdown",
   "id": "51b28b63",
   "metadata": {},
   "source": [
    "Out of the top 10 most popular villagers, the percentages are characteristics are:\n",
    "- Female: 40%\n",
    "- Big sister: 0%\n",
    "- Octopus: 20%\n",
    "- Nature: 60%\n",
    "- Cute style 1: 30%\n",
    "- Cute style 2: 50%\n",
    "\n",
    "Although these are the most popular characteristics, out of the top 10 popular villagers, only 40% are female. \n",
    "It suggests that players have a preference for both male and female villagers, as there is not a dominant majority \n",
    "of either gender among the top choices. 0% have big sister personalities. This could suggest that players might \n",
    "not find this particular personality trait appealing or that other personality types are more favored\n",
    "30% have cute as style 1. This suggests that while cuteness is a popular characteristic, it might not be the \n",
    "primary factor driving the popularity of villagers in the top rankings.\n",
    "50% have cute as style 2. Half of the top 10 popular villagers have the cute style 2, indicating that cuteness \n",
    "is still a significant factor in the selection of popular villagers.\n",
    "It is surprising that out of the 10 most popular villagers, 3/6 characteristics aren't noticably present. \n",
    "This suggests that popularity is not solely determined by these specific characteristics, and other factors \n",
    "such as individual preferences, unique designs, and personal interactions with villagers may play a \n",
    "significant role in the selection process."
   ]
  },
  {
   "cell_type": "code",
   "execution_count": null,
   "id": "e0a5f43c",
   "metadata": {},
   "outputs": [],
   "source": []
  }
 ],
 "metadata": {
  "kernelspec": {
   "display_name": "Python 3 (ipykernel)",
   "language": "python",
   "name": "python3"
  },
  "language_info": {
   "codemirror_mode": {
    "name": "ipython",
    "version": 3
   },
   "file_extension": ".py",
   "mimetype": "text/x-python",
   "name": "python",
   "nbconvert_exporter": "python",
   "pygments_lexer": "ipython3",
   "version": "3.9.7"
  }
 },
 "nbformat": 4,
 "nbformat_minor": 5
}
